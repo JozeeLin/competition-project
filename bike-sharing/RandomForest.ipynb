{
 "cells": [
  {
   "cell_type": "markdown",
   "metadata": {},
   "source": [
    "# 随机森林"
   ]
  },
  {
   "cell_type": "code",
   "execution_count": 2,
   "metadata": {
    "collapsed": true
   },
   "outputs": [],
   "source": [
    "import pandas as pd\n",
    "import numpy as np\n",
    "import calendar\n",
    "from datetime import datetime\n",
    "import matplotlib.pyplot as plt\n",
    "import seaborn as sns\n",
    "from sklearn.model_selection import train_test_split\n",
    "from sklearn.ensemble import RandomForestRegressor\n",
    "from sklearn.metrics import mean_squared_error\n",
    "from sklearn.model_selection import GridSearchCV\n",
    "%matplotlib inline"
   ]
  },
  {
   "cell_type": "code",
   "execution_count": 3,
   "metadata": {
    "collapsed": true
   },
   "outputs": [],
   "source": [
    "df_train = pd.read_csv('data/train.csv')\n",
    "df_test = pd.read_csv('data/test.csv')"
   ]
  },
  {
   "cell_type": "code",
   "execution_count": 4,
   "metadata": {
    "collapsed": true
   },
   "outputs": [],
   "source": [
    "datetimecol = df_test['datetime']"
   ]
  },
  {
   "cell_type": "code",
   "execution_count": 5,
   "metadata": {
    "collapsed": true
   },
   "outputs": [],
   "source": [
    "df_target = df_train[['casual','count','registered']]"
   ]
  },
  {
   "cell_type": "code",
   "execution_count": 6,
   "metadata": {
    "collapsed": true
   },
   "outputs": [],
   "source": [
    "df_train.drop(['casual','count','registered'],inplace=True,axis=1)"
   ]
  },
  {
   "cell_type": "code",
   "execution_count": 7,
   "metadata": {
    "collapsed": true
   },
   "outputs": [],
   "source": [
    "df_train_size = df_train.shape[0]"
   ]
  },
  {
   "cell_type": "code",
   "execution_count": 8,
   "metadata": {},
   "outputs": [
    {
     "data": {
      "text/plain": [
       "(6493, 9)"
      ]
     },
     "execution_count": 8,
     "metadata": {},
     "output_type": "execute_result"
    }
   ],
   "source": [
    "df_test.shape"
   ]
  },
  {
   "cell_type": "code",
   "execution_count": 9,
   "metadata": {
    "collapsed": true
   },
   "outputs": [],
   "source": [
    "df_data = pd.concat([df_train,df_test],ignore_index=True)"
   ]
  },
  {
   "cell_type": "code",
   "execution_count": 10,
   "metadata": {
    "collapsed": true
   },
   "outputs": [],
   "source": [
    "df_data['hour'] = pd.DatetimeIndex(df_data.datetime).hour\n",
    "df_data['weekday'] = pd.DatetimeIndex(df_data.datetime).dayofweek\n",
    "df_data['month'] = pd.DatetimeIndex(df_data.datetime).month\n",
    "df_data['year'] = pd.DatetimeIndex(df_data.datetime).year"
   ]
  },
  {
   "cell_type": "markdown",
   "metadata": {},
   "source": [
    "## 对mount、hour进行独热编码处理"
   ]
  },
  {
   "cell_type": "code",
   "execution_count": 11,
   "metadata": {},
   "outputs": [
    {
     "data": {
      "text/plain": [
       "(17379, 16)"
      ]
     },
     "execution_count": 11,
     "metadata": {},
     "output_type": "execute_result"
    }
   ],
   "source": [
    "#使用pandas的get_dummies来完成独热编码处理工作\n",
    "dum_season = pd.get_dummies(df_data['season'], prefix='season_')\n",
    "df_data = df_data.join(dum_season)\n",
    "df_data.drop(['season'],inplace=True,axis=1)\n",
    "df_data.shape"
   ]
  },
  {
   "cell_type": "code",
   "execution_count": 12,
   "metadata": {},
   "outputs": [
    {
     "data": {
      "text/plain": [
       "(17379, 19)"
      ]
     },
     "execution_count": 12,
     "metadata": {},
     "output_type": "execute_result"
    }
   ],
   "source": [
    "dum_weather = pd.get_dummies(df_data['weather'], prefix='weather_')\n",
    "df_data = df_data.join(dum_weather)\n",
    "df_data.drop(['weather'],inplace=True,axis=1)\n",
    "df_data.shape"
   ]
  },
  {
   "cell_type": "code",
   "execution_count": 13,
   "metadata": {},
   "outputs": [
    {
     "data": {
      "text/plain": [
       "(17379, 42)"
      ]
     },
     "execution_count": 13,
     "metadata": {},
     "output_type": "execute_result"
    }
   ],
   "source": [
    "dum_tmp = pd.get_dummies(df_data['hour'], prefix='hour')\n",
    "df_data = df_data.join(dum_tmp)\n",
    "df_data.drop(['hour'],inplace=True,axis=1)\n",
    "df_data.shape"
   ]
  },
  {
   "cell_type": "code",
   "execution_count": 14,
   "metadata": {},
   "outputs": [
    {
     "data": {
      "text/plain": [
       "(17379, 53)"
      ]
     },
     "execution_count": 14,
     "metadata": {},
     "output_type": "execute_result"
    }
   ],
   "source": [
    "dum_tmp = pd.get_dummies(df_data['month'], prefix='month')\n",
    "df_data = df_data.join(dum_tmp)\n",
    "df_data.drop(['month'],inplace=True,axis=1)\n",
    "df_data.shape"
   ]
  },
  {
   "cell_type": "code",
   "execution_count": 15,
   "metadata": {},
   "outputs": [
    {
     "data": {
      "text/plain": [
       "(17379, 59)"
      ]
     },
     "execution_count": 15,
     "metadata": {},
     "output_type": "execute_result"
    }
   ],
   "source": [
    "dum_tmp = pd.get_dummies(df_data['weekday'], prefix='weekday')\n",
    "df_data = df_data.join(dum_tmp)\n",
    "df_data.drop(['weekday'],inplace=True,axis=1)\n",
    "df_data.shape"
   ]
  },
  {
   "cell_type": "code",
   "execution_count": 16,
   "metadata": {
    "collapsed": true
   },
   "outputs": [],
   "source": [
    "df_data.drop(['datetime'],inplace=True, axis=1)"
   ]
  },
  {
   "cell_type": "code",
   "execution_count": 17,
   "metadata": {
    "collapsed": true
   },
   "outputs": [],
   "source": [
    "df_train = df_data.iloc[:df_train_size,:]\n",
    "df_test = df_data.iloc[df_train_size:,:].reset_index(drop=True)"
   ]
  },
  {
   "cell_type": "markdown",
   "metadata": {
    "collapsed": true
   },
   "source": [
    "rf = RandomForestRegressor()\n",
    "param_grid = [{'n_estimators':[100,200,500]}]\n",
    "rf = GridSearchCV(estimator=rf,param_grid=param_grid,scoring='neg_mean_squared_error',cv=5,n_jobs=-1)"
   ]
  },
  {
   "cell_type": "code",
   "execution_count": 18,
   "metadata": {},
   "outputs": [],
   "source": [
    "#score=0.40396,estimator=200\n",
    "#score=0.40428,estimator=500\n",
    "#score=0.40596,estimator=100\n",
    "rf_casual = RandomForestRegressor(n_estimators=200)\n",
    "rf_reg = RandomForestRegressor(n_estimators=200)"
   ]
  },
  {
   "cell_type": "code",
   "execution_count": 19,
   "metadata": {
    "collapsed": true
   },
   "outputs": [],
   "source": [
    "rf_casual = rf_casual.fit(df_train, np.log(df_target['casual']+1))\n",
    "rf_reg = rf_reg.fit(df_train, np.log(df_target['registered']+1))"
   ]
  },
  {
   "cell_type": "markdown",
   "metadata": {
    "collapsed": true
   },
   "source": [
    "print rf_casual.best_params_\n",
    "print rf_reg.best_params_"
   ]
  },
  {
   "cell_type": "code",
   "execution_count": 20,
   "metadata": {
    "collapsed": true
   },
   "outputs": [],
   "source": [
    "y_pred_casual = rf_casual.predict(df_test)\n",
    "y_pred_reg = rf_reg.predict(df_test)"
   ]
  },
  {
   "cell_type": "code",
   "execution_count": 21,
   "metadata": {
    "collapsed": true
   },
   "outputs": [],
   "source": [
    "output = np.round(np.exp(y_pred_reg) - 1 + np.exp(y_pred_casual) - 1)\n",
    "df_output = pd.DataFrame({'datetime': datetimecol, 'count': output})\n",
    "df_output['count'] = df_output['count'].astype(int)\n",
    "df_output.to_csv('data/submission-rf.csv', index = False)"
   ]
  },
  {
   "cell_type": "code",
   "execution_count": null,
   "metadata": {
    "collapsed": true
   },
   "outputs": [],
   "source": []
  }
 ],
 "metadata": {
  "kernelspec": {
   "display_name": "Python 2",
   "language": "python",
   "name": "python2"
  },
  "language_info": {
   "codemirror_mode": {
    "name": "ipython",
    "version": 2
   },
   "file_extension": ".py",
   "mimetype": "text/x-python",
   "name": "python",
   "nbconvert_exporter": "python",
   "pygments_lexer": "ipython2",
   "version": "2.7.13"
  }
 },
 "nbformat": 4,
 "nbformat_minor": 2
}
