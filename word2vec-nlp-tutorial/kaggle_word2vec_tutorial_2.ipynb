{
  "nbformat": 4,
  "nbformat_minor": 0,
  "metadata": {
    "colab": {
      "name": "kaggle-word2vec-tutorial-2.ipynb",
      "version": "0.3.2",
      "provenance": [],
      "collapsed_sections": [],
      "include_colab_link": true
    },
    "kernelspec": {
      "name": "python2",
      "display_name": "Python 2"
    },
    "accelerator": "GPU"
  },
  "cells": [
    {
      "cell_type": "markdown",
      "metadata": {
        "id": "view-in-github",
        "colab_type": "text"
      },
      "source": [
        "[View in Colaboratory](https://colab.research.google.com/github/JozeeLin/competition-project/blob/master/word2vec-nlp-tutorial/kaggle_word2vec_tutorial_2.ipynb)"
      ]
    },
    {
      "metadata": {
        "id": "BzW-TT8jmI3i",
        "colab_type": "code",
        "colab": {}
      },
      "cell_type": "code",
      "source": [
        "!pip install -U -q PyDrive\n",
        "!pip install -U -q gensim\n",
        "!pip install -U -q Cython # 安装Cython提高Word2Vec的处理性能\n",
        "from pydrive.auth import GoogleAuth\n",
        "from pydrive.drive import GoogleDrive\n",
        "from google.colab import auth\n",
        "from oauth2client.client import GoogleCredentials\n",
        "from googleapiclient.discovery import build\n",
        "from googleapiclient.http import MediaFileUpload\n",
        "\n",
        "auth.authenticate_user()\n",
        "gauth = GoogleAuth()\n",
        "gauth.credentials = GoogleCredentials.get_application_default()\n",
        "drive = GoogleDrive(gauth)"
      ],
      "execution_count": 0,
      "outputs": []
    },
    {
      "metadata": {
        "id": "PgbGSUNn2F7Q",
        "colab_type": "code",
        "colab": {}
      },
      "cell_type": "code",
      "source": [
        "data_file = drive.CreateFile({'id':'1MMQXKM8roP-wvWxn8cHOkqAXJ7ypkPpZ'}) # replace the id with id of file you want to access\n",
        "data_file.GetContentFile('testData.tsv')\n",
        "data_file = drive.CreateFile({'id':'1lxWF-fg3E49S7kP06caNytc0SmDTC5gX'})\n",
        "data_file.GetContentFile('labeledTrainData.tsv')\n",
        "data_file = drive.CreateFile({'id':'18_uCGu01SXkjTygQANpH6YCHQdNiwsDV'})\n",
        "data_file.GetContentFile('unlabeledTrainData.tsv')"
      ],
      "execution_count": 0,
      "outputs": []
    },
    {
      "metadata": {
        "id": "xZXsTHJwR7tJ",
        "colab_type": "code",
        "colab": {
          "base_uri": "https://localhost:8080/",
          "height": 126
        },
        "outputId": "13a8c9de-ca22-403e-cfbd-67210503d2a6"
      },
      "cell_type": "code",
      "source": [
        "!ls"
      ],
      "execution_count": 106,
      "outputs": [
        {
          "output_type": "stream",
          "text": [
            "300features_40minwords_10context.model\ttestData.tsv\r\n",
            "datalab\t\t\t\t\tunlabeledTrainData.tsv\r\n",
            "labeledTrainData.tsv\t\t\tWord2Vec_BagOfClusters.csv\r\n",
            "neg.xls\t\t\t\t\tWord2Vec_model.csv\r\n",
            "nltk_data\t\t\t\tword_centroid_map_10avg.pickle\r\n",
            "pos.xls\t\t\t\t\tzhwiki-latest-pages-articles.xml.bz2\r\n"
          ],
          "name": "stdout"
        }
      ]
    },
    {
      "metadata": {
        "id": "0z_YyJfHR9Ew",
        "colab_type": "code",
        "colab": {
          "base_uri": "https://localhost:8080/",
          "height": 108
        },
        "outputId": "35f944e5-b29f-4ac9-bdc3-c2032ad1ab25"
      },
      "cell_type": "code",
      "source": [
        "import re\n",
        "import pickle\n",
        "import numpy as np\n",
        "import pandas as pd\n",
        "\n",
        "from bs4 import BeautifulSoup\n",
        "\n",
        "from gensim.models.word2vec import Word2Vec\n",
        "\n",
        "from sklearn.ensemble import RandomForestClassifier\n",
        "from sklearn.metrics import confusion_matrix\n",
        "from sklearn.cluster import KMeans\n",
        "import nltk\n",
        "import nltk.data\n",
        "from nltk.corpus import stopwords\n",
        "nltk.download('stopwords')\n",
        "nltk.download('punkt')"
      ],
      "execution_count": 86,
      "outputs": [
        {
          "output_type": "stream",
          "text": [
            "[nltk_data] Downloading package stopwords to /content/nltk_data...\n",
            "[nltk_data]   Package stopwords is already up-to-date!\n",
            "[nltk_data] Downloading package punkt to /content/nltk_data...\n",
            "[nltk_data]   Package punkt is already up-to-date!\n"
          ],
          "name": "stdout"
        },
        {
          "output_type": "execute_result",
          "data": {
            "text/plain": [
              "True"
            ]
          },
          "metadata": {
            "tags": []
          },
          "execution_count": 86
        }
      ]
    },
    {
      "metadata": {
        "id": "pVxGKoISSFHX",
        "colab_type": "code",
        "colab": {}
      },
      "cell_type": "code",
      "source": [
        "def load_dataset(name, nrows=None):\n",
        "    datasets = {\n",
        "        'unlabeled_train':'unlabeledTrainData.tsv',\n",
        "        'labeled_train':'labeledTrainData.tsv',\n",
        "        'testData':'testData.tsv'\n",
        "    }\n",
        "    if name not in datasets:\n",
        "        raise ValueError(name)\n",
        "    df = pd.read_csv(datasets[name], sep='\\t', escapechar='\\\\',nrows=nrows)\n",
        "    return df"
      ],
      "execution_count": 0,
      "outputs": []
    },
    {
      "metadata": {
        "id": "U-lrFJEtTNtX",
        "colab_type": "text"
      },
      "cell_type": "markdown",
      "source": [
        "## 读入无标签数据\n",
        "用于训练生成word2vec词向量"
      ]
    },
    {
      "metadata": {
        "id": "4xj1S1bfSV5x",
        "colab_type": "code",
        "colab": {
          "base_uri": "https://localhost:8080/",
          "height": 198
        },
        "outputId": "dd7325a5-6ce8-4be7-c627-c9818696d7ef"
      },
      "cell_type": "code",
      "source": [
        "df = load_dataset('unlabeled_train')\n",
        "df.head()"
      ],
      "execution_count": 8,
      "outputs": [
        {
          "output_type": "execute_result",
          "data": {
            "text/html": [
              "<div>\n",
              "<style scoped>\n",
              "    .dataframe tbody tr th:only-of-type {\n",
              "        vertical-align: middle;\n",
              "    }\n",
              "\n",
              "    .dataframe tbody tr th {\n",
              "        vertical-align: top;\n",
              "    }\n",
              "\n",
              "    .dataframe thead th {\n",
              "        text-align: right;\n",
              "    }\n",
              "</style>\n",
              "<table border=\"1\" class=\"dataframe\">\n",
              "  <thead>\n",
              "    <tr style=\"text-align: right;\">\n",
              "      <th></th>\n",
              "      <th>id</th>\n",
              "      <th>review</th>\n",
              "    </tr>\n",
              "  </thead>\n",
              "  <tbody>\n",
              "    <tr>\n",
              "      <th>0</th>\n",
              "      <td>9999_0</td>\n",
              "      <td>Watching Time Chasers, it obvious that it was ...</td>\n",
              "    </tr>\n",
              "    <tr>\n",
              "      <th>1</th>\n",
              "      <td>45057_0</td>\n",
              "      <td>I saw this film about 20 years ago and remembe...</td>\n",
              "    </tr>\n",
              "    <tr>\n",
              "      <th>2</th>\n",
              "      <td>15561_0</td>\n",
              "      <td>Minor Spoilers&lt;br /&gt;&lt;br /&gt;In New York, Joan Ba...</td>\n",
              "    </tr>\n",
              "    <tr>\n",
              "      <th>3</th>\n",
              "      <td>7161_0</td>\n",
              "      <td>I went to see this film with a great deal of e...</td>\n",
              "    </tr>\n",
              "    <tr>\n",
              "      <th>4</th>\n",
              "      <td>43971_0</td>\n",
              "      <td>Yes, I agree with everyone on this site this m...</td>\n",
              "    </tr>\n",
              "  </tbody>\n",
              "</table>\n",
              "</div>"
            ],
            "text/plain": [
              "        id                                             review\n",
              "0   9999_0  Watching Time Chasers, it obvious that it was ...\n",
              "1  45057_0  I saw this film about 20 years ago and remembe...\n",
              "2  15561_0  Minor Spoilers<br /><br />In New York, Joan Ba...\n",
              "3   7161_0  I went to see this film with a great deal of e...\n",
              "4  43971_0  Yes, I agree with everyone on this site this m..."
            ]
          },
          "metadata": {
            "tags": []
          },
          "execution_count": 8
        }
      ]
    },
    {
      "metadata": {
        "id": "WDqvud_yTTED",
        "colab_type": "code",
        "colab": {}
      },
      "cell_type": "code",
      "source": [
        "eng_stopwords = set(stopwords.words('english'))\n",
        "def clean_text(text, remove_stopwords=True):\n",
        "    text = BeautifulSoup(text, 'html.parser').get_text()\n",
        "    text = re.sub(r'[^a-zA-Z]',' ', text)\n",
        "    words = text.lower().split()\n",
        "    if remove_stopwords:\n",
        "        words = [w for w in words if w not in eng_stopwords]\n",
        "    return words"
      ],
      "execution_count": 0,
      "outputs": []
    },
    {
      "metadata": {
        "id": "3zDW_4OfTagi",
        "colab_type": "code",
        "colab": {}
      },
      "cell_type": "code",
      "source": [
        "tokenizer = nltk.data.load('nltk:tokenizers/punkt/english.pickle')"
      ],
      "execution_count": 0,
      "outputs": []
    },
    {
      "metadata": {
        "id": "2zATZs2QWYBk",
        "colab_type": "code",
        "colab": {}
      },
      "cell_type": "code",
      "source": [
        "def split_sentences(review):\n",
        "  raw_sentences = tokenizer.tokenize(review.decode('utf-8').strip())\n",
        "  sentences = [clean_text(s) for s in raw_sentences if s]\n",
        "  return sentences"
      ],
      "execution_count": 0,
      "outputs": []
    },
    {
      "metadata": {
        "id": "Cysf_XL1Wdxm",
        "colab_type": "code",
        "colab": {
          "base_uri": "https://localhost:8080/",
          "height": 310
        },
        "outputId": "2ac52224-425b-469b-8b56-46e79db0852f"
      },
      "cell_type": "code",
      "source": [
        "sentences = sum(df.review.apply(split_sentences),[])\n",
        "print('{} reviews -> {} sentences'.format(len(df), len(sentences)))"
      ],
      "execution_count": 56,
      "outputs": [
        {
          "output_type": "stream",
          "text": [
            "/usr/local/lib/python2.7/dist-packages/bs4/__init__.py:219: UserWarning: \".\" looks like a filename, not markup. You should probably open this file and pass the filehandle into Beautiful Soup.\n",
            "  ' Beautiful Soup.' % markup)\n",
            "/usr/local/lib/python2.7/dist-packages/bs4/__init__.py:282: UserWarning: \"http://www.archive.org/details/LovefromaStranger\" looks like a URL. Beautiful Soup is not an HTTP client. You should probably use an HTTP client like requests to get the document behind the URL, and feed that document to Beautiful Soup.\n",
            "  ' that document to Beautiful Soup.' % decoded_markup\n",
            "/usr/local/lib/python2.7/dist-packages/bs4/__init__.py:219: UserWarning: \"..\" looks like a filename, not markup. You should probably open this file and pass the filehandle into Beautiful Soup.\n",
            "  ' Beautiful Soup.' % markup)\n",
            "/usr/local/lib/python2.7/dist-packages/bs4/__init__.py:282: UserWarning: \"http://www.loosechangeguide.com/LooseChangeGuide.html\" looks like a URL. Beautiful Soup is not an HTTP client. You should probably use an HTTP client like requests to get the document behind the URL, and feed that document to Beautiful Soup.\n",
            "  ' that document to Beautiful Soup.' % decoded_markup\n",
            "/usr/local/lib/python2.7/dist-packages/bs4/__init__.py:282: UserWarning: \"http://www.msnbc.msn.com/id/4972055/site/newsweek/\" looks like a URL. Beautiful Soup is not an HTTP client. You should probably use an HTTP client like requests to get the document behind the URL, and feed that document to Beautiful Soup.\n",
            "  ' that document to Beautiful Soup.' % decoded_markup\n",
            "/usr/local/lib/python2.7/dist-packages/bs4/__init__.py:282: UserWarning: \"http://www.youtube.com/watch?v=a0KSqelmgN8\" looks like a URL. Beautiful Soup is not an HTTP client. You should probably use an HTTP client like requests to get the document behind the URL, and feed that document to Beautiful Soup.\n",
            "  ' that document to Beautiful Soup.' % decoded_markup\n",
            "/usr/local/lib/python2.7/dist-packages/bs4/__init__.py:282: UserWarning: \"http://jake-weird.blogspot.com/2007/08/beneath.html\" looks like a URL. Beautiful Soup is not an HTTP client. You should probably use an HTTP client like requests to get the document behind the URL, and feed that document to Beautiful Soup.\n",
            "  ' that document to Beautiful Soup.' % decoded_markup\n"
          ],
          "name": "stderr"
        },
        {
          "output_type": "stream",
          "text": [
            "50000 reviews -> 537851 sentences\n"
          ],
          "name": "stdout"
        }
      ]
    },
    {
      "metadata": {
        "id": "3UrXN75FWj1K",
        "colab_type": "text"
      },
      "cell_type": "markdown",
      "source": [
        "## 用gensim训练词嵌入模型"
      ]
    },
    {
      "metadata": {
        "id": "h9MQq9fAWh6b",
        "colab_type": "code",
        "colab": {}
      },
      "cell_type": "code",
      "source": [
        "#设定词向量训练的参数\n",
        "num_features = 300  #词向量长度\n",
        "min_word_count = 40 #最小词频\n",
        "num_workers = 4 # 线程数\n",
        "context = 10 # 上下文窗口大小\n",
        "downsampling = 1e-3  #负采样 对 高频词进行负采样\n",
        "model_name = '{}features_{}minwords_{}context.model'.format(num_features, min_word_count, context)"
      ],
      "execution_count": 0,
      "outputs": []
    },
    {
      "metadata": {
        "id": "AhuOpNBxX79N",
        "colab_type": "code",
        "colab": {
          "base_uri": "https://localhost:8080/",
          "height": 35
        },
        "outputId": "6604ac9b-9e2f-4789-81e1-2798a27a171b"
      },
      "cell_type": "code",
      "source": [
        "print('Training model...')\n",
        "model = Word2Vec(sentences, workers=num_workers,size=num_features, min_count=min_word_count,\\\n",
        "                          window=context,sample=downsampling)\n",
        "model.init_sims(replace=True)\n",
        "model.save(model_name)"
      ],
      "execution_count": 59,
      "outputs": [
        {
          "output_type": "stream",
          "text": [
            "Training model...\n"
          ],
          "name": "stdout"
        }
      ]
    },
    {
      "metadata": {
        "id": "jBxhLbQbav6p",
        "colab_type": "text"
      },
      "cell_type": "markdown",
      "source": [
        "## 看看训练的词向量结果如何"
      ]
    },
    {
      "metadata": {
        "id": "jJFDpU-_auM0",
        "colab_type": "code",
        "colab": {
          "base_uri": "https://localhost:8080/",
          "height": 146
        },
        "outputId": "59326152-3dd6-4198-b13d-f2b9fcdcd470"
      },
      "cell_type": "code",
      "source": [
        "print(model.doesnt_match('man woman child kitchen'.split()))\n",
        "print(model.doesnt_match('france england germany berlin'.split()))"
      ],
      "execution_count": 60,
      "outputs": [
        {
          "output_type": "stream",
          "text": [
            "kitchen\n",
            "berlin\n"
          ],
          "name": "stdout"
        },
        {
          "output_type": "stream",
          "text": [
            "/usr/local/lib/python2.7/dist-packages/ipykernel_launcher.py:1: DeprecationWarning: Call to deprecated `doesnt_match` (Method will be removed in 4.0.0, use self.wv.doesnt_match() instead).\n",
            "  \"\"\"Entry point for launching an IPython kernel.\n",
            "/usr/local/lib/python2.7/dist-packages/ipykernel_launcher.py:2: DeprecationWarning: Call to deprecated `doesnt_match` (Method will be removed in 4.0.0, use self.wv.doesnt_match() instead).\n",
            "  \n"
          ],
          "name": "stderr"
        }
      ]
    },
    {
      "metadata": {
        "id": "clQByiyhayQT",
        "colab_type": "code",
        "colab": {
          "base_uri": "https://localhost:8080/",
          "height": 255
        },
        "outputId": "9b5cfca6-930c-4c41-bfbf-dceecc4dc9f3"
      },
      "cell_type": "code",
      "source": [
        "model.most_similar('man')"
      ],
      "execution_count": 61,
      "outputs": [
        {
          "output_type": "stream",
          "text": [
            "/usr/local/lib/python2.7/dist-packages/ipykernel_launcher.py:1: DeprecationWarning: Call to deprecated `most_similar` (Method will be removed in 4.0.0, use self.wv.most_similar() instead).\n",
            "  \"\"\"Entry point for launching an IPython kernel.\n"
          ],
          "name": "stderr"
        },
        {
          "output_type": "execute_result",
          "data": {
            "text/plain": [
              "[(u'lady', 0.6093131899833679),\n",
              " (u'woman', 0.5811398029327393),\n",
              " (u'men', 0.5336166620254517),\n",
              " (u'mans', 0.45269760489463806),\n",
              " (u'lad', 0.4468681216239929),\n",
              " (u'chap', 0.44640877842903137),\n",
              " (u'peasant', 0.4321844279766083),\n",
              " (u'monk', 0.42857974767684937),\n",
              " (u'grandson', 0.4267146587371826),\n",
              " (u'person', 0.42538565397262573)]"
            ]
          },
          "metadata": {
            "tags": []
          },
          "execution_count": 61
        }
      ]
    },
    {
      "metadata": {
        "id": "6d5JswL4azwK",
        "colab_type": "code",
        "colab": {
          "base_uri": "https://localhost:8080/",
          "height": 255
        },
        "outputId": "40e76126-4a56-4518-9a8f-083c50410629"
      },
      "cell_type": "code",
      "source": [
        "model.most_similar('awful')"
      ],
      "execution_count": 62,
      "outputs": [
        {
          "output_type": "stream",
          "text": [
            "/usr/local/lib/python2.7/dist-packages/ipykernel_launcher.py:1: DeprecationWarning: Call to deprecated `most_similar` (Method will be removed in 4.0.0, use self.wv.most_similar() instead).\n",
            "  \"\"\"Entry point for launching an IPython kernel.\n"
          ],
          "name": "stderr"
        },
        {
          "output_type": "execute_result",
          "data": {
            "text/plain": [
              "[(u'terrible', 0.8140065670013428),\n",
              " (u'horrible', 0.7812572717666626),\n",
              " (u'dreadful', 0.7603800296783447),\n",
              " (u'atrocious', 0.7543813586235046),\n",
              " (u'horrid', 0.7384567260742188),\n",
              " (u'abysmal', 0.7305564284324646),\n",
              " (u'horrendous', 0.7270557880401611),\n",
              " (u'appalling', 0.7005763053894043),\n",
              " (u'lousy', 0.6944822072982788),\n",
              " (u'crappy', 0.6584889888763428)]"
            ]
          },
          "metadata": {
            "tags": []
          },
          "execution_count": 62
        }
      ]
    },
    {
      "metadata": {
        "id": "5pcsTh7Qa31G",
        "colab_type": "text"
      },
      "cell_type": "markdown",
      "source": [
        "## 读入之前训练好的word2vec模型"
      ]
    },
    {
      "metadata": {
        "id": "vYzAPmSwa1LT",
        "colab_type": "code",
        "colab": {}
      },
      "cell_type": "code",
      "source": [
        "model_name = '300features_40minwords_10context.model'\n",
        "model = Word2Vec.load(model_name)"
      ],
      "execution_count": 0,
      "outputs": []
    },
    {
      "metadata": {
        "id": "E1U1p2pBa7sT",
        "colab_type": "text"
      },
      "cell_type": "markdown",
      "source": [
        "## 根据word2vec的结果取对影评文本进行编码\n",
        "编码方式有一点粗暴,简单来说就是把这句话中的词的词向量做平均"
      ]
    },
    {
      "metadata": {
        "id": "QR6cWgHZa56t",
        "colab_type": "code",
        "colab": {
          "base_uri": "https://localhost:8080/",
          "height": 198
        },
        "outputId": "526f2f04-e5ba-47cb-db96-af318ae8d336"
      },
      "cell_type": "code",
      "source": [
        "df = load_dataset('labeled_train')\n",
        "df.head()"
      ],
      "execution_count": 64,
      "outputs": [
        {
          "output_type": "execute_result",
          "data": {
            "text/html": [
              "<div>\n",
              "<style scoped>\n",
              "    .dataframe tbody tr th:only-of-type {\n",
              "        vertical-align: middle;\n",
              "    }\n",
              "\n",
              "    .dataframe tbody tr th {\n",
              "        vertical-align: top;\n",
              "    }\n",
              "\n",
              "    .dataframe thead th {\n",
              "        text-align: right;\n",
              "    }\n",
              "</style>\n",
              "<table border=\"1\" class=\"dataframe\">\n",
              "  <thead>\n",
              "    <tr style=\"text-align: right;\">\n",
              "      <th></th>\n",
              "      <th>id</th>\n",
              "      <th>sentiment</th>\n",
              "      <th>review</th>\n",
              "    </tr>\n",
              "  </thead>\n",
              "  <tbody>\n",
              "    <tr>\n",
              "      <th>0</th>\n",
              "      <td>5814_8</td>\n",
              "      <td>1</td>\n",
              "      <td>With all this stuff going down at the moment w...</td>\n",
              "    </tr>\n",
              "    <tr>\n",
              "      <th>1</th>\n",
              "      <td>2381_9</td>\n",
              "      <td>1</td>\n",
              "      <td>\"The Classic War of the Worlds\" by Timothy Hin...</td>\n",
              "    </tr>\n",
              "    <tr>\n",
              "      <th>2</th>\n",
              "      <td>7759_3</td>\n",
              "      <td>0</td>\n",
              "      <td>The film starts with a manager (Nicholas Bell)...</td>\n",
              "    </tr>\n",
              "    <tr>\n",
              "      <th>3</th>\n",
              "      <td>3630_4</td>\n",
              "      <td>0</td>\n",
              "      <td>It must be assumed that those who praised this...</td>\n",
              "    </tr>\n",
              "    <tr>\n",
              "      <th>4</th>\n",
              "      <td>9495_8</td>\n",
              "      <td>1</td>\n",
              "      <td>Superbly trashy and wondrously unpretentious 8...</td>\n",
              "    </tr>\n",
              "  </tbody>\n",
              "</table>\n",
              "</div>"
            ],
            "text/plain": [
              "       id  sentiment                                             review\n",
              "0  5814_8          1  With all this stuff going down at the moment w...\n",
              "1  2381_9          1  \"The Classic War of the Worlds\" by Timothy Hin...\n",
              "2  7759_3          0  The film starts with a manager (Nicholas Bell)...\n",
              "3  3630_4          0  It must be assumed that those who praised this...\n",
              "4  9495_8          1  Superbly trashy and wondrously unpretentious 8..."
            ]
          },
          "metadata": {
            "tags": []
          },
          "execution_count": 64
        }
      ]
    },
    {
      "metadata": {
        "id": "fuly5LFBa9yz",
        "colab_type": "code",
        "colab": {}
      },
      "cell_type": "code",
      "source": [
        "def to_review_vector(review):\n",
        "    words = clean_text(review, remove_stopwords=True)\n",
        "    array = np.array([model[w] for w in words if w in model]) #只获取之前训练中得到的词对应的词向量\n",
        "    return pd.Series(array.mean(axis=0)) #句子表征（对这句话中的词的词向量做平均）"
      ],
      "execution_count": 0,
      "outputs": []
    },
    {
      "metadata": {
        "id": "H6hbWwHDa_Lj",
        "colab_type": "code",
        "colab": {
          "base_uri": "https://localhost:8080/",
          "height": 320
        },
        "outputId": "453d71d1-15d9-4f00-c2ac-0d01b61c9e24"
      },
      "cell_type": "code",
      "source": [
        "train_data_features = df.review.apply(to_review_vector)\n",
        "train_data_features.head()"
      ],
      "execution_count": 67,
      "outputs": [
        {
          "output_type": "stream",
          "text": [
            "/usr/local/lib/python2.7/dist-packages/ipykernel_launcher.py:3: DeprecationWarning: Call to deprecated `__contains__` (Method will be removed in 4.0.0, use self.wv.__contains__() instead).\n",
            "  This is separate from the ipykernel package so we can avoid doing imports until\n",
            "/usr/local/lib/python2.7/dist-packages/ipykernel_launcher.py:3: DeprecationWarning: Call to deprecated `__getitem__` (Method will be removed in 4.0.0, use self.wv.__getitem__() instead).\n",
            "  This is separate from the ipykernel package so we can avoid doing imports until\n"
          ],
          "name": "stderr"
        },
        {
          "output_type": "execute_result",
          "data": {
            "text/html": [
              "<div>\n",
              "<style scoped>\n",
              "    .dataframe tbody tr th:only-of-type {\n",
              "        vertical-align: middle;\n",
              "    }\n",
              "\n",
              "    .dataframe tbody tr th {\n",
              "        vertical-align: top;\n",
              "    }\n",
              "\n",
              "    .dataframe thead th {\n",
              "        text-align: right;\n",
              "    }\n",
              "</style>\n",
              "<table border=\"1\" class=\"dataframe\">\n",
              "  <thead>\n",
              "    <tr style=\"text-align: right;\">\n",
              "      <th></th>\n",
              "      <th>0</th>\n",
              "      <th>1</th>\n",
              "      <th>2</th>\n",
              "      <th>3</th>\n",
              "      <th>4</th>\n",
              "      <th>5</th>\n",
              "      <th>6</th>\n",
              "      <th>7</th>\n",
              "      <th>8</th>\n",
              "      <th>9</th>\n",
              "      <th>...</th>\n",
              "      <th>290</th>\n",
              "      <th>291</th>\n",
              "      <th>292</th>\n",
              "      <th>293</th>\n",
              "      <th>294</th>\n",
              "      <th>295</th>\n",
              "      <th>296</th>\n",
              "      <th>297</th>\n",
              "      <th>298</th>\n",
              "      <th>299</th>\n",
              "    </tr>\n",
              "  </thead>\n",
              "  <tbody>\n",
              "    <tr>\n",
              "      <th>0</th>\n",
              "      <td>0.002301</td>\n",
              "      <td>0.000195</td>\n",
              "      <td>-0.011667</td>\n",
              "      <td>0.001758</td>\n",
              "      <td>0.008971</td>\n",
              "      <td>-0.015142</td>\n",
              "      <td>-0.004608</td>\n",
              "      <td>-0.008976</td>\n",
              "      <td>-0.004569</td>\n",
              "      <td>-0.011369</td>\n",
              "      <td>...</td>\n",
              "      <td>0.012878</td>\n",
              "      <td>-0.008942</td>\n",
              "      <td>0.001830</td>\n",
              "      <td>0.006384</td>\n",
              "      <td>-0.003532</td>\n",
              "      <td>0.001806</td>\n",
              "      <td>-0.023057</td>\n",
              "      <td>0.008721</td>\n",
              "      <td>-0.023023</td>\n",
              "      <td>-0.004719</td>\n",
              "    </tr>\n",
              "    <tr>\n",
              "      <th>1</th>\n",
              "      <td>0.002214</td>\n",
              "      <td>-0.002991</td>\n",
              "      <td>-0.026946</td>\n",
              "      <td>-0.017171</td>\n",
              "      <td>-0.007454</td>\n",
              "      <td>-0.002659</td>\n",
              "      <td>0.011523</td>\n",
              "      <td>0.009194</td>\n",
              "      <td>0.021793</td>\n",
              "      <td>-0.012293</td>\n",
              "      <td>...</td>\n",
              "      <td>0.015273</td>\n",
              "      <td>-0.018626</td>\n",
              "      <td>-0.002221</td>\n",
              "      <td>0.014355</td>\n",
              "      <td>-0.000013</td>\n",
              "      <td>0.015347</td>\n",
              "      <td>-0.012987</td>\n",
              "      <td>-0.017007</td>\n",
              "      <td>-0.020576</td>\n",
              "      <td>0.016552</td>\n",
              "    </tr>\n",
              "    <tr>\n",
              "      <th>2</th>\n",
              "      <td>-0.021281</td>\n",
              "      <td>-0.014221</td>\n",
              "      <td>-0.024887</td>\n",
              "      <td>-0.016690</td>\n",
              "      <td>-0.007231</td>\n",
              "      <td>0.001583</td>\n",
              "      <td>0.020306</td>\n",
              "      <td>0.010289</td>\n",
              "      <td>0.008628</td>\n",
              "      <td>-0.025230</td>\n",
              "      <td>...</td>\n",
              "      <td>0.029082</td>\n",
              "      <td>0.003547</td>\n",
              "      <td>-0.004067</td>\n",
              "      <td>0.022749</td>\n",
              "      <td>0.008137</td>\n",
              "      <td>0.018943</td>\n",
              "      <td>-0.021524</td>\n",
              "      <td>0.011212</td>\n",
              "      <td>-0.018821</td>\n",
              "      <td>0.004907</td>\n",
              "    </tr>\n",
              "    <tr>\n",
              "      <th>3</th>\n",
              "      <td>-0.009060</td>\n",
              "      <td>0.004359</td>\n",
              "      <td>-0.014058</td>\n",
              "      <td>-0.007610</td>\n",
              "      <td>0.016760</td>\n",
              "      <td>-0.006075</td>\n",
              "      <td>0.006964</td>\n",
              "      <td>0.013396</td>\n",
              "      <td>0.006630</td>\n",
              "      <td>-0.010928</td>\n",
              "      <td>...</td>\n",
              "      <td>0.017541</td>\n",
              "      <td>-0.000870</td>\n",
              "      <td>0.001565</td>\n",
              "      <td>0.008802</td>\n",
              "      <td>-0.013177</td>\n",
              "      <td>0.013124</td>\n",
              "      <td>-0.025679</td>\n",
              "      <td>-0.015423</td>\n",
              "      <td>-0.030367</td>\n",
              "      <td>0.009022</td>\n",
              "    </tr>\n",
              "    <tr>\n",
              "      <th>4</th>\n",
              "      <td>-0.005941</td>\n",
              "      <td>-0.003862</td>\n",
              "      <td>-0.013713</td>\n",
              "      <td>0.004704</td>\n",
              "      <td>0.011728</td>\n",
              "      <td>-0.005980</td>\n",
              "      <td>0.003089</td>\n",
              "      <td>0.020213</td>\n",
              "      <td>-0.004871</td>\n",
              "      <td>-0.008754</td>\n",
              "      <td>...</td>\n",
              "      <td>0.022762</td>\n",
              "      <td>0.009058</td>\n",
              "      <td>0.000612</td>\n",
              "      <td>0.012036</td>\n",
              "      <td>-0.002984</td>\n",
              "      <td>0.006277</td>\n",
              "      <td>-0.023391</td>\n",
              "      <td>0.014227</td>\n",
              "      <td>-0.024221</td>\n",
              "      <td>-0.002127</td>\n",
              "    </tr>\n",
              "  </tbody>\n",
              "</table>\n",
              "<p>5 rows × 300 columns</p>\n",
              "</div>"
            ],
            "text/plain": [
              "        0         1         2         3         4         5         6    \\\n",
              "0  0.002301  0.000195 -0.011667  0.001758  0.008971 -0.015142 -0.004608   \n",
              "1  0.002214 -0.002991 -0.026946 -0.017171 -0.007454 -0.002659  0.011523   \n",
              "2 -0.021281 -0.014221 -0.024887 -0.016690 -0.007231  0.001583  0.020306   \n",
              "3 -0.009060  0.004359 -0.014058 -0.007610  0.016760 -0.006075  0.006964   \n",
              "4 -0.005941 -0.003862 -0.013713  0.004704  0.011728 -0.005980  0.003089   \n",
              "\n",
              "        7         8         9      ...          290       291       292  \\\n",
              "0 -0.008976 -0.004569 -0.011369    ...     0.012878 -0.008942  0.001830   \n",
              "1  0.009194  0.021793 -0.012293    ...     0.015273 -0.018626 -0.002221   \n",
              "2  0.010289  0.008628 -0.025230    ...     0.029082  0.003547 -0.004067   \n",
              "3  0.013396  0.006630 -0.010928    ...     0.017541 -0.000870  0.001565   \n",
              "4  0.020213 -0.004871 -0.008754    ...     0.022762  0.009058  0.000612   \n",
              "\n",
              "        293       294       295       296       297       298       299  \n",
              "0  0.006384 -0.003532  0.001806 -0.023057  0.008721 -0.023023 -0.004719  \n",
              "1  0.014355 -0.000013  0.015347 -0.012987 -0.017007 -0.020576  0.016552  \n",
              "2  0.022749  0.008137  0.018943 -0.021524  0.011212 -0.018821  0.004907  \n",
              "3  0.008802 -0.013177  0.013124 -0.025679 -0.015423 -0.030367  0.009022  \n",
              "4  0.012036 -0.002984  0.006277 -0.023391  0.014227 -0.024221 -0.002127  \n",
              "\n",
              "[5 rows x 300 columns]"
            ]
          },
          "metadata": {
            "tags": []
          },
          "execution_count": 67
        }
      ]
    },
    {
      "metadata": {
        "id": "kA4JbvlJbBxX",
        "colab_type": "text"
      },
      "cell_type": "markdown",
      "source": [
        "## 用随机森林构建分类器"
      ]
    },
    {
      "metadata": {
        "id": "xOt_lcrGbAi0",
        "colab_type": "code",
        "colab": {}
      },
      "cell_type": "code",
      "source": [
        "forest = RandomForestClassifier(n_estimators=100, random_state=42)\n",
        "forest = forest.fit(train_data_features, df.sentiment)"
      ],
      "execution_count": 0,
      "outputs": []
    },
    {
      "metadata": {
        "id": "HrZWX1qRbEsL",
        "colab_type": "text"
      },
      "cell_type": "markdown",
      "source": [
        "## 看看分类器在训练集上的准确率"
      ]
    },
    {
      "metadata": {
        "id": "692kRsKvbDdn",
        "colab_type": "code",
        "colab": {
          "base_uri": "https://localhost:8080/",
          "height": 54
        },
        "outputId": "5111578f-1696-428f-8e30-b6cad17d1d58"
      },
      "cell_type": "code",
      "source": [
        "confusion_matrix(df.sentiment, forest.predict(train_data_features))"
      ],
      "execution_count": 69,
      "outputs": [
        {
          "output_type": "execute_result",
          "data": {
            "text/plain": [
              "array([[12500,     0],\n",
              "       [    0, 12500]])"
            ]
          },
          "metadata": {
            "tags": []
          },
          "execution_count": 69
        }
      ]
    },
    {
      "metadata": {
        "id": "fG-RflZ9bG4_",
        "colab_type": "code",
        "colab": {}
      },
      "cell_type": "code",
      "source": [
        "#清理占用内容的变量\n",
        "del df\n",
        "del train_data_features"
      ],
      "execution_count": 0,
      "outputs": []
    },
    {
      "metadata": {
        "id": "C05DxQkdbLEz",
        "colab_type": "text"
      },
      "cell_type": "markdown",
      "source": [
        "## 预测测试集结果并上传Kaggle"
      ]
    },
    {
      "metadata": {
        "id": "OLgTX6ILbIqO",
        "colab_type": "code",
        "colab": {
          "base_uri": "https://localhost:8080/",
          "height": 198
        },
        "outputId": "9253faf3-902b-427d-b47c-283a3b4022a4"
      },
      "cell_type": "code",
      "source": [
        "df = load_dataset('testData')\n",
        "df.head()"
      ],
      "execution_count": 73,
      "outputs": [
        {
          "output_type": "execute_result",
          "data": {
            "text/html": [
              "<div>\n",
              "<style scoped>\n",
              "    .dataframe tbody tr th:only-of-type {\n",
              "        vertical-align: middle;\n",
              "    }\n",
              "\n",
              "    .dataframe tbody tr th {\n",
              "        vertical-align: top;\n",
              "    }\n",
              "\n",
              "    .dataframe thead th {\n",
              "        text-align: right;\n",
              "    }\n",
              "</style>\n",
              "<table border=\"1\" class=\"dataframe\">\n",
              "  <thead>\n",
              "    <tr style=\"text-align: right;\">\n",
              "      <th></th>\n",
              "      <th>id</th>\n",
              "      <th>review</th>\n",
              "    </tr>\n",
              "  </thead>\n",
              "  <tbody>\n",
              "    <tr>\n",
              "      <th>0</th>\n",
              "      <td>12311_10</td>\n",
              "      <td>Naturally in a film who's main themes are of m...</td>\n",
              "    </tr>\n",
              "    <tr>\n",
              "      <th>1</th>\n",
              "      <td>8348_2</td>\n",
              "      <td>This movie is a disaster within a disaster fil...</td>\n",
              "    </tr>\n",
              "    <tr>\n",
              "      <th>2</th>\n",
              "      <td>5828_4</td>\n",
              "      <td>All in all, this is a movie for kids. We saw i...</td>\n",
              "    </tr>\n",
              "    <tr>\n",
              "      <th>3</th>\n",
              "      <td>7186_2</td>\n",
              "      <td>Afraid of the Dark left me with the impression...</td>\n",
              "    </tr>\n",
              "    <tr>\n",
              "      <th>4</th>\n",
              "      <td>12128_7</td>\n",
              "      <td>A very accurate depiction of small time mob li...</td>\n",
              "    </tr>\n",
              "  </tbody>\n",
              "</table>\n",
              "</div>"
            ],
            "text/plain": [
              "         id                                             review\n",
              "0  12311_10  Naturally in a film who's main themes are of m...\n",
              "1    8348_2  This movie is a disaster within a disaster fil...\n",
              "2    5828_4  All in all, this is a movie for kids. We saw i...\n",
              "3    7186_2  Afraid of the Dark left me with the impression...\n",
              "4   12128_7  A very accurate depiction of small time mob li..."
            ]
          },
          "metadata": {
            "tags": []
          },
          "execution_count": 73
        }
      ]
    },
    {
      "metadata": {
        "id": "9WKhpj3mbQ9e",
        "colab_type": "code",
        "colab": {
          "base_uri": "https://localhost:8080/",
          "height": 320
        },
        "outputId": "1cd67d16-5266-42f7-a750-1dfc4c280618"
      },
      "cell_type": "code",
      "source": [
        "test_data_features = df.review.apply(to_review_vector)\n",
        "test_data_features.head()"
      ],
      "execution_count": 74,
      "outputs": [
        {
          "output_type": "stream",
          "text": [
            "/usr/local/lib/python2.7/dist-packages/ipykernel_launcher.py:3: DeprecationWarning: Call to deprecated `__contains__` (Method will be removed in 4.0.0, use self.wv.__contains__() instead).\n",
            "  This is separate from the ipykernel package so we can avoid doing imports until\n",
            "/usr/local/lib/python2.7/dist-packages/ipykernel_launcher.py:3: DeprecationWarning: Call to deprecated `__getitem__` (Method will be removed in 4.0.0, use self.wv.__getitem__() instead).\n",
            "  This is separate from the ipykernel package so we can avoid doing imports until\n"
          ],
          "name": "stderr"
        },
        {
          "output_type": "execute_result",
          "data": {
            "text/html": [
              "<div>\n",
              "<style scoped>\n",
              "    .dataframe tbody tr th:only-of-type {\n",
              "        vertical-align: middle;\n",
              "    }\n",
              "\n",
              "    .dataframe tbody tr th {\n",
              "        vertical-align: top;\n",
              "    }\n",
              "\n",
              "    .dataframe thead th {\n",
              "        text-align: right;\n",
              "    }\n",
              "</style>\n",
              "<table border=\"1\" class=\"dataframe\">\n",
              "  <thead>\n",
              "    <tr style=\"text-align: right;\">\n",
              "      <th></th>\n",
              "      <th>0</th>\n",
              "      <th>1</th>\n",
              "      <th>2</th>\n",
              "      <th>3</th>\n",
              "      <th>4</th>\n",
              "      <th>5</th>\n",
              "      <th>6</th>\n",
              "      <th>7</th>\n",
              "      <th>8</th>\n",
              "      <th>9</th>\n",
              "      <th>...</th>\n",
              "      <th>290</th>\n",
              "      <th>291</th>\n",
              "      <th>292</th>\n",
              "      <th>293</th>\n",
              "      <th>294</th>\n",
              "      <th>295</th>\n",
              "      <th>296</th>\n",
              "      <th>297</th>\n",
              "      <th>298</th>\n",
              "      <th>299</th>\n",
              "    </tr>\n",
              "  </thead>\n",
              "  <tbody>\n",
              "    <tr>\n",
              "      <th>0</th>\n",
              "      <td>-0.011843</td>\n",
              "      <td>-0.000651</td>\n",
              "      <td>-0.015461</td>\n",
              "      <td>0.003898</td>\n",
              "      <td>-0.001246</td>\n",
              "      <td>0.000094</td>\n",
              "      <td>-0.002539</td>\n",
              "      <td>0.029375</td>\n",
              "      <td>0.013902</td>\n",
              "      <td>-0.013791</td>\n",
              "      <td>...</td>\n",
              "      <td>0.030883</td>\n",
              "      <td>-0.009939</td>\n",
              "      <td>0.001893</td>\n",
              "      <td>0.034039</td>\n",
              "      <td>-0.010348</td>\n",
              "      <td>0.008567</td>\n",
              "      <td>-0.057584</td>\n",
              "      <td>-0.018047</td>\n",
              "      <td>-0.044727</td>\n",
              "      <td>0.012082</td>\n",
              "    </tr>\n",
              "    <tr>\n",
              "      <th>1</th>\n",
              "      <td>0.012279</td>\n",
              "      <td>0.001367</td>\n",
              "      <td>-0.003965</td>\n",
              "      <td>-0.004030</td>\n",
              "      <td>0.021583</td>\n",
              "      <td>-0.029047</td>\n",
              "      <td>-0.014400</td>\n",
              "      <td>-0.003117</td>\n",
              "      <td>0.006958</td>\n",
              "      <td>0.002174</td>\n",
              "      <td>...</td>\n",
              "      <td>0.014373</td>\n",
              "      <td>-0.016566</td>\n",
              "      <td>-0.001588</td>\n",
              "      <td>0.008155</td>\n",
              "      <td>-0.018910</td>\n",
              "      <td>-0.006760</td>\n",
              "      <td>-0.042820</td>\n",
              "      <td>0.009879</td>\n",
              "      <td>-0.033384</td>\n",
              "      <td>-0.007741</td>\n",
              "    </tr>\n",
              "    <tr>\n",
              "      <th>2</th>\n",
              "      <td>0.004804</td>\n",
              "      <td>0.004400</td>\n",
              "      <td>-0.010148</td>\n",
              "      <td>0.010583</td>\n",
              "      <td>0.031862</td>\n",
              "      <td>-0.017914</td>\n",
              "      <td>-0.012768</td>\n",
              "      <td>-0.011764</td>\n",
              "      <td>0.018405</td>\n",
              "      <td>0.000777</td>\n",
              "      <td>...</td>\n",
              "      <td>0.022423</td>\n",
              "      <td>-0.015491</td>\n",
              "      <td>0.008229</td>\n",
              "      <td>0.019291</td>\n",
              "      <td>-0.012224</td>\n",
              "      <td>-0.007576</td>\n",
              "      <td>-0.037020</td>\n",
              "      <td>-0.004710</td>\n",
              "      <td>-0.046705</td>\n",
              "      <td>-0.003077</td>\n",
              "    </tr>\n",
              "    <tr>\n",
              "      <th>3</th>\n",
              "      <td>-0.015947</td>\n",
              "      <td>-0.007554</td>\n",
              "      <td>0.001088</td>\n",
              "      <td>0.004873</td>\n",
              "      <td>0.006196</td>\n",
              "      <td>-0.001922</td>\n",
              "      <td>-0.000046</td>\n",
              "      <td>0.001228</td>\n",
              "      <td>0.025170</td>\n",
              "      <td>0.000062</td>\n",
              "      <td>...</td>\n",
              "      <td>0.024191</td>\n",
              "      <td>-0.004353</td>\n",
              "      <td>-0.001459</td>\n",
              "      <td>0.032023</td>\n",
              "      <td>-0.008207</td>\n",
              "      <td>0.001238</td>\n",
              "      <td>-0.043039</td>\n",
              "      <td>0.002011</td>\n",
              "      <td>-0.051958</td>\n",
              "      <td>-0.004043</td>\n",
              "    </tr>\n",
              "    <tr>\n",
              "      <th>4</th>\n",
              "      <td>-0.024728</td>\n",
              "      <td>-0.012909</td>\n",
              "      <td>-0.008750</td>\n",
              "      <td>0.000309</td>\n",
              "      <td>0.013506</td>\n",
              "      <td>0.004938</td>\n",
              "      <td>-0.006832</td>\n",
              "      <td>0.004253</td>\n",
              "      <td>-0.003488</td>\n",
              "      <td>-0.004558</td>\n",
              "      <td>...</td>\n",
              "      <td>0.015922</td>\n",
              "      <td>-0.016665</td>\n",
              "      <td>0.010026</td>\n",
              "      <td>0.012267</td>\n",
              "      <td>0.001648</td>\n",
              "      <td>0.007966</td>\n",
              "      <td>-0.006179</td>\n",
              "      <td>0.000792</td>\n",
              "      <td>-0.012695</td>\n",
              "      <td>0.022062</td>\n",
              "    </tr>\n",
              "  </tbody>\n",
              "</table>\n",
              "<p>5 rows × 300 columns</p>\n",
              "</div>"
            ],
            "text/plain": [
              "        0         1         2         3         4         5         6    \\\n",
              "0 -0.011843 -0.000651 -0.015461  0.003898 -0.001246  0.000094 -0.002539   \n",
              "1  0.012279  0.001367 -0.003965 -0.004030  0.021583 -0.029047 -0.014400   \n",
              "2  0.004804  0.004400 -0.010148  0.010583  0.031862 -0.017914 -0.012768   \n",
              "3 -0.015947 -0.007554  0.001088  0.004873  0.006196 -0.001922 -0.000046   \n",
              "4 -0.024728 -0.012909 -0.008750  0.000309  0.013506  0.004938 -0.006832   \n",
              "\n",
              "        7         8         9      ...          290       291       292  \\\n",
              "0  0.029375  0.013902 -0.013791    ...     0.030883 -0.009939  0.001893   \n",
              "1 -0.003117  0.006958  0.002174    ...     0.014373 -0.016566 -0.001588   \n",
              "2 -0.011764  0.018405  0.000777    ...     0.022423 -0.015491  0.008229   \n",
              "3  0.001228  0.025170  0.000062    ...     0.024191 -0.004353 -0.001459   \n",
              "4  0.004253 -0.003488 -0.004558    ...     0.015922 -0.016665  0.010026   \n",
              "\n",
              "        293       294       295       296       297       298       299  \n",
              "0  0.034039 -0.010348  0.008567 -0.057584 -0.018047 -0.044727  0.012082  \n",
              "1  0.008155 -0.018910 -0.006760 -0.042820  0.009879 -0.033384 -0.007741  \n",
              "2  0.019291 -0.012224 -0.007576 -0.037020 -0.004710 -0.046705 -0.003077  \n",
              "3  0.032023 -0.008207  0.001238 -0.043039  0.002011 -0.051958 -0.004043  \n",
              "4  0.012267  0.001648  0.007966 -0.006179  0.000792 -0.012695  0.022062  \n",
              "\n",
              "[5 rows x 300 columns]"
            ]
          },
          "metadata": {
            "tags": []
          },
          "execution_count": 74
        }
      ]
    },
    {
      "metadata": {
        "id": "c-bAxONObSGy",
        "colab_type": "code",
        "colab": {
          "base_uri": "https://localhost:8080/",
          "height": 198
        },
        "outputId": "aadd4454-5ba3-429d-8330-697e70a5e144"
      },
      "cell_type": "code",
      "source": [
        "result = forest.predict(test_data_features)\n",
        "output = pd.DataFrame({'id':df.id,'sentiment':result})\n",
        "output.to_csv('Word2Vec_model.csv',index=False)\n",
        "output.head()"
      ],
      "execution_count": 75,
      "outputs": [
        {
          "output_type": "execute_result",
          "data": {
            "text/html": [
              "<div>\n",
              "<style scoped>\n",
              "    .dataframe tbody tr th:only-of-type {\n",
              "        vertical-align: middle;\n",
              "    }\n",
              "\n",
              "    .dataframe tbody tr th {\n",
              "        vertical-align: top;\n",
              "    }\n",
              "\n",
              "    .dataframe thead th {\n",
              "        text-align: right;\n",
              "    }\n",
              "</style>\n",
              "<table border=\"1\" class=\"dataframe\">\n",
              "  <thead>\n",
              "    <tr style=\"text-align: right;\">\n",
              "      <th></th>\n",
              "      <th>id</th>\n",
              "      <th>sentiment</th>\n",
              "    </tr>\n",
              "  </thead>\n",
              "  <tbody>\n",
              "    <tr>\n",
              "      <th>0</th>\n",
              "      <td>12311_10</td>\n",
              "      <td>1</td>\n",
              "    </tr>\n",
              "    <tr>\n",
              "      <th>1</th>\n",
              "      <td>8348_2</td>\n",
              "      <td>0</td>\n",
              "    </tr>\n",
              "    <tr>\n",
              "      <th>2</th>\n",
              "      <td>5828_4</td>\n",
              "      <td>1</td>\n",
              "    </tr>\n",
              "    <tr>\n",
              "      <th>3</th>\n",
              "      <td>7186_2</td>\n",
              "      <td>0</td>\n",
              "    </tr>\n",
              "    <tr>\n",
              "      <th>4</th>\n",
              "      <td>12128_7</td>\n",
              "      <td>1</td>\n",
              "    </tr>\n",
              "  </tbody>\n",
              "</table>\n",
              "</div>"
            ],
            "text/plain": [
              "         id  sentiment\n",
              "0  12311_10          1\n",
              "1    8348_2          0\n",
              "2    5828_4          1\n",
              "3    7186_2          0\n",
              "4   12128_7          1"
            ]
          },
          "metadata": {
            "tags": []
          },
          "execution_count": 75
        }
      ]
    },
    {
      "metadata": {
        "id": "Nb8Rj8g8bTT7",
        "colab_type": "code",
        "colab": {}
      },
      "cell_type": "code",
      "source": [
        "del df\n",
        "del test_data_features\n",
        "del forest"
      ],
      "execution_count": 0,
      "outputs": []
    },
    {
      "metadata": {
        "id": "1u2oxygum_Be",
        "colab_type": "text"
      },
      "cell_type": "markdown",
      "source": [
        "## 把测试集的预测结果保存到google driver上"
      ]
    },
    {
      "metadata": {
        "id": "THHy_b02m9sw",
        "colab_type": "code",
        "colab": {}
      },
      "cell_type": "code",
      "source": [
        "drive_service = build('drive', 'v3')\n",
        "file_metadata = {\n",
        "  'name': 'Word2Vec_model.csv',\n",
        "  'mimeType': 'text/plain'\n",
        "}\n",
        "media = MediaFileUpload('Word2Vec_model.csv', \n",
        "                        mimetype='text/plain',\n",
        "                        resumable=True)\n",
        "created = drive_service.files().create(body=file_metadata,\n",
        "                                       media_body=media,\n",
        "                                       fields='id').execute()"
      ],
      "execution_count": 0,
      "outputs": []
    },
    {
      "metadata": {
        "id": "2b_eptRMbU_t",
        "colab_type": "text"
      },
      "cell_type": "markdown",
      "source": [
        "# 对词向量进行聚类研究和编码\n",
        "使用KMeans进行聚类\n",
        "<br>\n",
        "训练好的模型是由词汇表中单词的特征向量所组成的。这些特征向量存储在叫做wv.vectors的numpy数组中."
      ]
    },
    {
      "metadata": {
        "id": "UTKVpTdqbVid",
        "colab_type": "code",
        "colab": {
          "base_uri": "https://localhost:8080/",
          "height": 35
        },
        "outputId": "ca63eacc-58ce-481d-c6aa-ae931c6b74b9"
      },
      "cell_type": "code",
      "source": [
        "word_vectors = model.wv.vectors\n",
        "num_clusters = word_vectors.shape[0] // 10\n",
        "print word_vectors.shape"
      ],
      "execution_count": 81,
      "outputs": [
        {
          "output_type": "stream",
          "text": [
            "(12907, 300)\n"
          ],
          "name": "stdout"
        }
      ]
    },
    {
      "metadata": {
        "id": "SbmcnbPObXMu",
        "colab_type": "code",
        "colab": {}
      },
      "cell_type": "code",
      "source": [
        "kmeans_clustering = KMeans(n_clusters = num_clusters, n_jobs=-1)\n",
        "idx = kmeans_clustering.fit_predict(word_vectors)"
      ],
      "execution_count": 0,
      "outputs": []
    },
    {
      "metadata": {
        "id": "6Jr6Uex9bYUl",
        "colab_type": "code",
        "colab": {
          "base_uri": "https://localhost:8080/",
          "height": 108
        },
        "outputId": "16e27d06-2c44-4c6e-f9a6-4a142fecdff6"
      },
      "cell_type": "code",
      "source": [
        "word_centroid_map = dict(zip(model.wv.index2word, idx))\n",
        "keys = word_centroid_map.keys()\n",
        "dict_slice = {}\n",
        "for k in keys[0:5]:\n",
        "    print k,word_centroid_map[k]"
      ],
      "execution_count": 85,
      "outputs": [
        {
          "output_type": "stream",
          "text": [
            "aided 44\n",
            "writings 98\n",
            "galactica 420\n",
            "foul 1255\n",
            "four 1197\n"
          ],
          "name": "stdout"
        }
      ]
    },
    {
      "metadata": {
        "id": "0MZhQ97dbZaV",
        "colab_type": "code",
        "colab": {}
      },
      "cell_type": "code",
      "source": [
        "#通过聚类把每个单词与聚类的索引号映射关系保存起来\n",
        "filename = 'word_centroid_map_10avg.pickle'\n",
        "with open(filename,'w') as f:\n",
        "    pickle.dump(word_centroid_map, f)"
      ],
      "execution_count": 0,
      "outputs": []
    },
    {
      "metadata": {
        "id": "CQj1Imiwbci-",
        "colab_type": "text"
      },
      "cell_type": "markdown",
      "source": [
        "## 输出一些cluster看看"
      ]
    },
    {
      "metadata": {
        "id": "ah2hUK_rbbL9",
        "colab_type": "code",
        "colab": {
          "base_uri": "https://localhost:8080/",
          "height": 583
        },
        "outputId": "e35822e7-8dcd-4079-e0df-3eac0822816e"
      },
      "cell_type": "code",
      "source": [
        "for cluster in range(0,10):\n",
        "    print('\\nCluster %d' % cluster)\n",
        "    print([w for w,c in word_centroid_map.items() if c == cluster])"
      ],
      "execution_count": 89,
      "outputs": [
        {
          "output_type": "stream",
          "text": [
            "\n",
            "Cluster 0\n",
            "[u'method', u'projects', u'skill', u'capable', u'skills', u'enthusiasm', u'talent', u'craft', u'energy', u'abilities', u'ability']\n",
            "\n",
            "Cluster 1\n",
            "[u'unemployed', u'insists', u'dumped', u'pose', u'inviting', u'owns', u'humiliated', u'toast', u'tow', u'screws', u'sells', u'buys', u'calling', u'complains']\n",
            "\n",
            "Cluster 2\n",
            "[u'hidalgo', u'welcomed', u'scotty', u'footsteps', u'mitch', u'unsuccessful', u'riddle', u'ricco', u'crock', u'breakup', u'lucinda', u'valjean', u'det', u'sleuth', u'individually', u'impatient']\n",
            "\n",
            "Cluster 3\n",
            "[u'rough', u'applied', u'limits', u'todays', u'prevalent', u'outdated', u'primitive', u'pc', u'heavily']\n",
            "\n",
            "Cluster 4\n",
            "[u'stimulating', u'enthralling', u'unconventional']\n",
            "\n",
            "Cluster 5\n",
            "[u'disjointed', u'exposition', u'jumbled', u'trivial', u'monotonous', u'unfocused', u'meandering', u'uneventful', u'turgid', u'drags', u'aimless', u'mundane', u'stretches', u'stretched', u'talky', u'stretching', u'uninvolving', u'unexciting', u'dreary', u'forgetting', u'muddled', u'bogged', u'meaningless']\n",
            "\n",
            "Cluster 6\n",
            "[u'thankless', u'sobieski', u'jovovich', u'thespian', u'milla', u'clayburgh', u'bacall', u'underused', u'miscast', u'sleepwalking', u'banderas', u'hurley', u'overacts', u'jolie', u'dunaway']\n",
            "\n",
            "Cluster 7\n",
            "[u'fingers', u'legs', u'bite', u'surgery', u'someones', u'chest', u'stomach', u'tattoo', u'hand', u'teeth', u'knife', u'razor', u'knock', u'body', u'throat', u'finger', u'head', u'bare', u'arm', u'sweat']\n",
            "\n",
            "Cluster 8\n",
            "[u'serials']\n",
            "\n",
            "Cluster 9\n",
            "[u'scream', u'rehash', u'troll', u'ripoff', u'jaws', u'offs', u'copying', u'pinhead', u'rip', u'ripped']\n"
          ],
          "name": "stdout"
        }
      ]
    },
    {
      "metadata": {
        "id": "q72zQiDEbfji",
        "colab_type": "text"
      },
      "cell_type": "markdown",
      "source": [
        "## 将平均数据转成cluster bag vectors"
      ]
    },
    {
      "metadata": {
        "id": "8H0V88QKbeN5",
        "colab_type": "code",
        "colab": {}
      },
      "cell_type": "code",
      "source": [
        "wordset = set(word_centroid_map.keys())\n",
        "\n",
        "def make_cluster_bag(review):\n",
        "    words = clean_text(review, remove_stopwords=True)\n",
        "    # 使用聚类索引来对句子进行编码\n",
        "    return (pd.Series([word_centroid_map[w] for w in words if w in wordset])).value_counts().reindex(range(num_clusters+1),fill_value=0)"
      ],
      "execution_count": 0,
      "outputs": []
    },
    {
      "metadata": {
        "id": "1h6zlm3MbhNU",
        "colab_type": "code",
        "colab": {
          "base_uri": "https://localhost:8080/",
          "height": 198
        },
        "outputId": "f6635aa4-ebb6-4e53-bc34-1f423f8e81d9"
      },
      "cell_type": "code",
      "source": [
        "df = load_dataset('labeled_train')\n",
        "df.head()"
      ],
      "execution_count": 91,
      "outputs": [
        {
          "output_type": "execute_result",
          "data": {
            "text/html": [
              "<div>\n",
              "<style scoped>\n",
              "    .dataframe tbody tr th:only-of-type {\n",
              "        vertical-align: middle;\n",
              "    }\n",
              "\n",
              "    .dataframe tbody tr th {\n",
              "        vertical-align: top;\n",
              "    }\n",
              "\n",
              "    .dataframe thead th {\n",
              "        text-align: right;\n",
              "    }\n",
              "</style>\n",
              "<table border=\"1\" class=\"dataframe\">\n",
              "  <thead>\n",
              "    <tr style=\"text-align: right;\">\n",
              "      <th></th>\n",
              "      <th>id</th>\n",
              "      <th>sentiment</th>\n",
              "      <th>review</th>\n",
              "    </tr>\n",
              "  </thead>\n",
              "  <tbody>\n",
              "    <tr>\n",
              "      <th>0</th>\n",
              "      <td>5814_8</td>\n",
              "      <td>1</td>\n",
              "      <td>With all this stuff going down at the moment w...</td>\n",
              "    </tr>\n",
              "    <tr>\n",
              "      <th>1</th>\n",
              "      <td>2381_9</td>\n",
              "      <td>1</td>\n",
              "      <td>\"The Classic War of the Worlds\" by Timothy Hin...</td>\n",
              "    </tr>\n",
              "    <tr>\n",
              "      <th>2</th>\n",
              "      <td>7759_3</td>\n",
              "      <td>0</td>\n",
              "      <td>The film starts with a manager (Nicholas Bell)...</td>\n",
              "    </tr>\n",
              "    <tr>\n",
              "      <th>3</th>\n",
              "      <td>3630_4</td>\n",
              "      <td>0</td>\n",
              "      <td>It must be assumed that those who praised this...</td>\n",
              "    </tr>\n",
              "    <tr>\n",
              "      <th>4</th>\n",
              "      <td>9495_8</td>\n",
              "      <td>1</td>\n",
              "      <td>Superbly trashy and wondrously unpretentious 8...</td>\n",
              "    </tr>\n",
              "  </tbody>\n",
              "</table>\n",
              "</div>"
            ],
            "text/plain": [
              "       id  sentiment                                             review\n",
              "0  5814_8          1  With all this stuff going down at the moment w...\n",
              "1  2381_9          1  \"The Classic War of the Worlds\" by Timothy Hin...\n",
              "2  7759_3          0  The film starts with a manager (Nicholas Bell)...\n",
              "3  3630_4          0  It must be assumed that those who praised this...\n",
              "4  9495_8          1  Superbly trashy and wondrously unpretentious 8..."
            ]
          },
          "metadata": {
            "tags": []
          },
          "execution_count": 91
        }
      ]
    },
    {
      "metadata": {
        "id": "coAGK0eybinK",
        "colab_type": "code",
        "colab": {
          "base_uri": "https://localhost:8080/",
          "height": 227
        },
        "outputId": "a348e914-6bf5-4b63-a666-420e10a48a19"
      },
      "cell_type": "code",
      "source": [
        "train_data_features = df.review.apply(make_cluster_bag)\n",
        "train_data_features.head()"
      ],
      "execution_count": 92,
      "outputs": [
        {
          "output_type": "execute_result",
          "data": {
            "text/html": [
              "<div>\n",
              "<style scoped>\n",
              "    .dataframe tbody tr th:only-of-type {\n",
              "        vertical-align: middle;\n",
              "    }\n",
              "\n",
              "    .dataframe tbody tr th {\n",
              "        vertical-align: top;\n",
              "    }\n",
              "\n",
              "    .dataframe thead th {\n",
              "        text-align: right;\n",
              "    }\n",
              "</style>\n",
              "<table border=\"1\" class=\"dataframe\">\n",
              "  <thead>\n",
              "    <tr style=\"text-align: right;\">\n",
              "      <th></th>\n",
              "      <th>0</th>\n",
              "      <th>1</th>\n",
              "      <th>2</th>\n",
              "      <th>3</th>\n",
              "      <th>4</th>\n",
              "      <th>5</th>\n",
              "      <th>6</th>\n",
              "      <th>7</th>\n",
              "      <th>8</th>\n",
              "      <th>9</th>\n",
              "      <th>...</th>\n",
              "      <th>1281</th>\n",
              "      <th>1282</th>\n",
              "      <th>1283</th>\n",
              "      <th>1284</th>\n",
              "      <th>1285</th>\n",
              "      <th>1286</th>\n",
              "      <th>1287</th>\n",
              "      <th>1288</th>\n",
              "      <th>1289</th>\n",
              "      <th>1290</th>\n",
              "    </tr>\n",
              "  </thead>\n",
              "  <tbody>\n",
              "    <tr>\n",
              "      <th>0</th>\n",
              "      <td>0</td>\n",
              "      <td>0</td>\n",
              "      <td>0</td>\n",
              "      <td>0</td>\n",
              "      <td>0</td>\n",
              "      <td>0</td>\n",
              "      <td>0</td>\n",
              "      <td>0</td>\n",
              "      <td>0</td>\n",
              "      <td>0</td>\n",
              "      <td>...</td>\n",
              "      <td>0</td>\n",
              "      <td>0</td>\n",
              "      <td>0</td>\n",
              "      <td>0</td>\n",
              "      <td>0</td>\n",
              "      <td>0</td>\n",
              "      <td>0</td>\n",
              "      <td>0</td>\n",
              "      <td>0</td>\n",
              "      <td>0</td>\n",
              "    </tr>\n",
              "    <tr>\n",
              "      <th>1</th>\n",
              "      <td>0</td>\n",
              "      <td>0</td>\n",
              "      <td>0</td>\n",
              "      <td>0</td>\n",
              "      <td>0</td>\n",
              "      <td>0</td>\n",
              "      <td>0</td>\n",
              "      <td>0</td>\n",
              "      <td>0</td>\n",
              "      <td>0</td>\n",
              "      <td>...</td>\n",
              "      <td>0</td>\n",
              "      <td>0</td>\n",
              "      <td>1</td>\n",
              "      <td>0</td>\n",
              "      <td>0</td>\n",
              "      <td>0</td>\n",
              "      <td>0</td>\n",
              "      <td>0</td>\n",
              "      <td>0</td>\n",
              "      <td>0</td>\n",
              "    </tr>\n",
              "    <tr>\n",
              "      <th>2</th>\n",
              "      <td>0</td>\n",
              "      <td>0</td>\n",
              "      <td>0</td>\n",
              "      <td>0</td>\n",
              "      <td>0</td>\n",
              "      <td>0</td>\n",
              "      <td>0</td>\n",
              "      <td>0</td>\n",
              "      <td>0</td>\n",
              "      <td>0</td>\n",
              "      <td>...</td>\n",
              "      <td>0</td>\n",
              "      <td>0</td>\n",
              "      <td>0</td>\n",
              "      <td>1</td>\n",
              "      <td>0</td>\n",
              "      <td>0</td>\n",
              "      <td>0</td>\n",
              "      <td>0</td>\n",
              "      <td>0</td>\n",
              "      <td>0</td>\n",
              "    </tr>\n",
              "    <tr>\n",
              "      <th>3</th>\n",
              "      <td>0</td>\n",
              "      <td>0</td>\n",
              "      <td>0</td>\n",
              "      <td>0</td>\n",
              "      <td>0</td>\n",
              "      <td>0</td>\n",
              "      <td>0</td>\n",
              "      <td>0</td>\n",
              "      <td>0</td>\n",
              "      <td>0</td>\n",
              "      <td>...</td>\n",
              "      <td>0</td>\n",
              "      <td>1</td>\n",
              "      <td>0</td>\n",
              "      <td>0</td>\n",
              "      <td>0</td>\n",
              "      <td>0</td>\n",
              "      <td>0</td>\n",
              "      <td>0</td>\n",
              "      <td>0</td>\n",
              "      <td>0</td>\n",
              "    </tr>\n",
              "    <tr>\n",
              "      <th>4</th>\n",
              "      <td>0</td>\n",
              "      <td>0</td>\n",
              "      <td>0</td>\n",
              "      <td>1</td>\n",
              "      <td>0</td>\n",
              "      <td>0</td>\n",
              "      <td>0</td>\n",
              "      <td>2</td>\n",
              "      <td>0</td>\n",
              "      <td>0</td>\n",
              "      <td>...</td>\n",
              "      <td>0</td>\n",
              "      <td>0</td>\n",
              "      <td>0</td>\n",
              "      <td>0</td>\n",
              "      <td>0</td>\n",
              "      <td>1</td>\n",
              "      <td>0</td>\n",
              "      <td>0</td>\n",
              "      <td>0</td>\n",
              "      <td>0</td>\n",
              "    </tr>\n",
              "  </tbody>\n",
              "</table>\n",
              "<p>5 rows × 1291 columns</p>\n",
              "</div>"
            ],
            "text/plain": [
              "   0     1     2     3     4     5     6     7     8     9     ...   1281  \\\n",
              "0     0     0     0     0     0     0     0     0     0     0  ...      0   \n",
              "1     0     0     0     0     0     0     0     0     0     0  ...      0   \n",
              "2     0     0     0     0     0     0     0     0     0     0  ...      0   \n",
              "3     0     0     0     0     0     0     0     0     0     0  ...      0   \n",
              "4     0     0     0     1     0     0     0     2     0     0  ...      0   \n",
              "\n",
              "   1282  1283  1284  1285  1286  1287  1288  1289  1290  \n",
              "0     0     0     0     0     0     0     0     0     0  \n",
              "1     0     1     0     0     0     0     0     0     0  \n",
              "2     0     0     1     0     0     0     0     0     0  \n",
              "3     1     0     0     0     0     0     0     0     0  \n",
              "4     0     0     0     0     1     0     0     0     0  \n",
              "\n",
              "[5 rows x 1291 columns]"
            ]
          },
          "metadata": {
            "tags": []
          },
          "execution_count": 92
        }
      ]
    },
    {
      "metadata": {
        "id": "bdASgUJBbmLz",
        "colab_type": "text"
      },
      "cell_type": "markdown",
      "source": [
        "## 再用随机模型算法建模"
      ]
    },
    {
      "metadata": {
        "id": "rOTBWkV1bkYs",
        "colab_type": "code",
        "colab": {}
      },
      "cell_type": "code",
      "source": [
        "forest = RandomForestClassifier(n_estimators=100, random_state=42)\n",
        "forest = forest.fit(train_data_features, df.sentiment)"
      ],
      "execution_count": 0,
      "outputs": []
    },
    {
      "metadata": {
        "id": "9jNboI9Fbon1",
        "colab_type": "code",
        "colab": {
          "base_uri": "https://localhost:8080/",
          "height": 54
        },
        "outputId": "50364019-54a8-4b03-c2b4-99f4aa4ce8ef"
      },
      "cell_type": "code",
      "source": [
        "#获取模型在训练集上的准确率\n",
        "confusion_matrix(df.sentiment, forest.predict(train_data_features))"
      ],
      "execution_count": 94,
      "outputs": [
        {
          "output_type": "execute_result",
          "data": {
            "text/plain": [
              "array([[12500,     0],\n",
              "       [    0, 12500]])"
            ]
          },
          "metadata": {
            "tags": []
          },
          "execution_count": 94
        }
      ]
    },
    {
      "metadata": {
        "id": "GoCjzaPibp1u",
        "colab_type": "code",
        "colab": {}
      },
      "cell_type": "code",
      "source": [
        "#去掉无用的占内存的量\n",
        "del df\n",
        "del train_data_features"
      ],
      "execution_count": 0,
      "outputs": []
    },
    {
      "metadata": {
        "id": "ThRAFQnSbrn1",
        "colab_type": "text"
      },
      "cell_type": "markdown",
      "source": [
        "## 载入测试数据做预测"
      ]
    },
    {
      "metadata": {
        "id": "lgQ25TclbrHu",
        "colab_type": "code",
        "colab": {
          "base_uri": "https://localhost:8080/",
          "height": 198
        },
        "outputId": "4feabafd-4a90-4d25-bd49-6c58c10f85ba"
      },
      "cell_type": "code",
      "source": [
        "df = load_dataset('testData')\n",
        "df.head()"
      ],
      "execution_count": 96,
      "outputs": [
        {
          "output_type": "execute_result",
          "data": {
            "text/html": [
              "<div>\n",
              "<style scoped>\n",
              "    .dataframe tbody tr th:only-of-type {\n",
              "        vertical-align: middle;\n",
              "    }\n",
              "\n",
              "    .dataframe tbody tr th {\n",
              "        vertical-align: top;\n",
              "    }\n",
              "\n",
              "    .dataframe thead th {\n",
              "        text-align: right;\n",
              "    }\n",
              "</style>\n",
              "<table border=\"1\" class=\"dataframe\">\n",
              "  <thead>\n",
              "    <tr style=\"text-align: right;\">\n",
              "      <th></th>\n",
              "      <th>id</th>\n",
              "      <th>review</th>\n",
              "    </tr>\n",
              "  </thead>\n",
              "  <tbody>\n",
              "    <tr>\n",
              "      <th>0</th>\n",
              "      <td>12311_10</td>\n",
              "      <td>Naturally in a film who's main themes are of m...</td>\n",
              "    </tr>\n",
              "    <tr>\n",
              "      <th>1</th>\n",
              "      <td>8348_2</td>\n",
              "      <td>This movie is a disaster within a disaster fil...</td>\n",
              "    </tr>\n",
              "    <tr>\n",
              "      <th>2</th>\n",
              "      <td>5828_4</td>\n",
              "      <td>All in all, this is a movie for kids. We saw i...</td>\n",
              "    </tr>\n",
              "    <tr>\n",
              "      <th>3</th>\n",
              "      <td>7186_2</td>\n",
              "      <td>Afraid of the Dark left me with the impression...</td>\n",
              "    </tr>\n",
              "    <tr>\n",
              "      <th>4</th>\n",
              "      <td>12128_7</td>\n",
              "      <td>A very accurate depiction of small time mob li...</td>\n",
              "    </tr>\n",
              "  </tbody>\n",
              "</table>\n",
              "</div>"
            ],
            "text/plain": [
              "         id                                             review\n",
              "0  12311_10  Naturally in a film who's main themes are of m...\n",
              "1    8348_2  This movie is a disaster within a disaster fil...\n",
              "2    5828_4  All in all, this is a movie for kids. We saw i...\n",
              "3    7186_2  Afraid of the Dark left me with the impression...\n",
              "4   12128_7  A very accurate depiction of small time mob li..."
            ]
          },
          "metadata": {
            "tags": []
          },
          "execution_count": 96
        }
      ]
    },
    {
      "metadata": {
        "id": "GGOge9xAbung",
        "colab_type": "code",
        "colab": {
          "base_uri": "https://localhost:8080/",
          "height": 227
        },
        "outputId": "5ee02063-635f-4182-80c0-734abc0556ff"
      },
      "cell_type": "code",
      "source": [
        "test_data_features = df.review.apply(make_cluster_bag)\n",
        "test_data_features.head()"
      ],
      "execution_count": 97,
      "outputs": [
        {
          "output_type": "execute_result",
          "data": {
            "text/html": [
              "<div>\n",
              "<style scoped>\n",
              "    .dataframe tbody tr th:only-of-type {\n",
              "        vertical-align: middle;\n",
              "    }\n",
              "\n",
              "    .dataframe tbody tr th {\n",
              "        vertical-align: top;\n",
              "    }\n",
              "\n",
              "    .dataframe thead th {\n",
              "        text-align: right;\n",
              "    }\n",
              "</style>\n",
              "<table border=\"1\" class=\"dataframe\">\n",
              "  <thead>\n",
              "    <tr style=\"text-align: right;\">\n",
              "      <th></th>\n",
              "      <th>0</th>\n",
              "      <th>1</th>\n",
              "      <th>2</th>\n",
              "      <th>3</th>\n",
              "      <th>4</th>\n",
              "      <th>5</th>\n",
              "      <th>6</th>\n",
              "      <th>7</th>\n",
              "      <th>8</th>\n",
              "      <th>9</th>\n",
              "      <th>...</th>\n",
              "      <th>1281</th>\n",
              "      <th>1282</th>\n",
              "      <th>1283</th>\n",
              "      <th>1284</th>\n",
              "      <th>1285</th>\n",
              "      <th>1286</th>\n",
              "      <th>1287</th>\n",
              "      <th>1288</th>\n",
              "      <th>1289</th>\n",
              "      <th>1290</th>\n",
              "    </tr>\n",
              "  </thead>\n",
              "  <tbody>\n",
              "    <tr>\n",
              "      <th>0</th>\n",
              "      <td>0</td>\n",
              "      <td>0</td>\n",
              "      <td>0</td>\n",
              "      <td>0</td>\n",
              "      <td>0</td>\n",
              "      <td>0</td>\n",
              "      <td>0</td>\n",
              "      <td>0</td>\n",
              "      <td>0</td>\n",
              "      <td>0</td>\n",
              "      <td>...</td>\n",
              "      <td>0</td>\n",
              "      <td>0</td>\n",
              "      <td>0</td>\n",
              "      <td>0</td>\n",
              "      <td>0</td>\n",
              "      <td>1</td>\n",
              "      <td>0</td>\n",
              "      <td>0</td>\n",
              "      <td>0</td>\n",
              "      <td>0</td>\n",
              "    </tr>\n",
              "    <tr>\n",
              "      <th>1</th>\n",
              "      <td>2</td>\n",
              "      <td>0</td>\n",
              "      <td>0</td>\n",
              "      <td>0</td>\n",
              "      <td>0</td>\n",
              "      <td>0</td>\n",
              "      <td>0</td>\n",
              "      <td>0</td>\n",
              "      <td>0</td>\n",
              "      <td>0</td>\n",
              "      <td>...</td>\n",
              "      <td>0</td>\n",
              "      <td>0</td>\n",
              "      <td>0</td>\n",
              "      <td>0</td>\n",
              "      <td>0</td>\n",
              "      <td>0</td>\n",
              "      <td>0</td>\n",
              "      <td>0</td>\n",
              "      <td>0</td>\n",
              "      <td>0</td>\n",
              "    </tr>\n",
              "    <tr>\n",
              "      <th>2</th>\n",
              "      <td>0</td>\n",
              "      <td>0</td>\n",
              "      <td>0</td>\n",
              "      <td>0</td>\n",
              "      <td>0</td>\n",
              "      <td>0</td>\n",
              "      <td>0</td>\n",
              "      <td>0</td>\n",
              "      <td>0</td>\n",
              "      <td>0</td>\n",
              "      <td>...</td>\n",
              "      <td>0</td>\n",
              "      <td>0</td>\n",
              "      <td>0</td>\n",
              "      <td>0</td>\n",
              "      <td>0</td>\n",
              "      <td>0</td>\n",
              "      <td>0</td>\n",
              "      <td>0</td>\n",
              "      <td>0</td>\n",
              "      <td>0</td>\n",
              "    </tr>\n",
              "    <tr>\n",
              "      <th>3</th>\n",
              "      <td>0</td>\n",
              "      <td>0</td>\n",
              "      <td>0</td>\n",
              "      <td>0</td>\n",
              "      <td>0</td>\n",
              "      <td>0</td>\n",
              "      <td>0</td>\n",
              "      <td>0</td>\n",
              "      <td>0</td>\n",
              "      <td>0</td>\n",
              "      <td>...</td>\n",
              "      <td>0</td>\n",
              "      <td>0</td>\n",
              "      <td>0</td>\n",
              "      <td>0</td>\n",
              "      <td>0</td>\n",
              "      <td>0</td>\n",
              "      <td>0</td>\n",
              "      <td>0</td>\n",
              "      <td>0</td>\n",
              "      <td>0</td>\n",
              "    </tr>\n",
              "    <tr>\n",
              "      <th>4</th>\n",
              "      <td>0</td>\n",
              "      <td>0</td>\n",
              "      <td>0</td>\n",
              "      <td>0</td>\n",
              "      <td>0</td>\n",
              "      <td>1</td>\n",
              "      <td>0</td>\n",
              "      <td>0</td>\n",
              "      <td>0</td>\n",
              "      <td>0</td>\n",
              "      <td>...</td>\n",
              "      <td>0</td>\n",
              "      <td>0</td>\n",
              "      <td>0</td>\n",
              "      <td>0</td>\n",
              "      <td>0</td>\n",
              "      <td>0</td>\n",
              "      <td>0</td>\n",
              "      <td>0</td>\n",
              "      <td>0</td>\n",
              "      <td>0</td>\n",
              "    </tr>\n",
              "  </tbody>\n",
              "</table>\n",
              "<p>5 rows × 1291 columns</p>\n",
              "</div>"
            ],
            "text/plain": [
              "   0     1     2     3     4     5     6     7     8     9     ...   1281  \\\n",
              "0     0     0     0     0     0     0     0     0     0     0  ...      0   \n",
              "1     2     0     0     0     0     0     0     0     0     0  ...      0   \n",
              "2     0     0     0     0     0     0     0     0     0     0  ...      0   \n",
              "3     0     0     0     0     0     0     0     0     0     0  ...      0   \n",
              "4     0     0     0     0     0     1     0     0     0     0  ...      0   \n",
              "\n",
              "   1282  1283  1284  1285  1286  1287  1288  1289  1290  \n",
              "0     0     0     0     0     1     0     0     0     0  \n",
              "1     0     0     0     0     0     0     0     0     0  \n",
              "2     0     0     0     0     0     0     0     0     0  \n",
              "3     0     0     0     0     0     0     0     0     0  \n",
              "4     0     0     0     0     0     0     0     0     0  \n",
              "\n",
              "[5 rows x 1291 columns]"
            ]
          },
          "metadata": {
            "tags": []
          },
          "execution_count": 97
        }
      ]
    },
    {
      "metadata": {
        "id": "4tz6j2_zbvx9",
        "colab_type": "code",
        "colab": {
          "base_uri": "https://localhost:8080/",
          "height": 198
        },
        "outputId": "833371d8-22bc-41d5-b2a8-770724319160"
      },
      "cell_type": "code",
      "source": [
        "result = forest.predict(test_data_features)\n",
        "output = pd.DataFrame({'id':df.id, 'sentiment':result})\n",
        "output.to_csv('Word2Vec_BagOfClusters.csv',index=False)\n",
        "output.head()"
      ],
      "execution_count": 99,
      "outputs": [
        {
          "output_type": "execute_result",
          "data": {
            "text/html": [
              "<div>\n",
              "<style scoped>\n",
              "    .dataframe tbody tr th:only-of-type {\n",
              "        vertical-align: middle;\n",
              "    }\n",
              "\n",
              "    .dataframe tbody tr th {\n",
              "        vertical-align: top;\n",
              "    }\n",
              "\n",
              "    .dataframe thead th {\n",
              "        text-align: right;\n",
              "    }\n",
              "</style>\n",
              "<table border=\"1\" class=\"dataframe\">\n",
              "  <thead>\n",
              "    <tr style=\"text-align: right;\">\n",
              "      <th></th>\n",
              "      <th>id</th>\n",
              "      <th>sentiment</th>\n",
              "    </tr>\n",
              "  </thead>\n",
              "  <tbody>\n",
              "    <tr>\n",
              "      <th>0</th>\n",
              "      <td>12311_10</td>\n",
              "      <td>1</td>\n",
              "    </tr>\n",
              "    <tr>\n",
              "      <th>1</th>\n",
              "      <td>8348_2</td>\n",
              "      <td>0</td>\n",
              "    </tr>\n",
              "    <tr>\n",
              "      <th>2</th>\n",
              "      <td>5828_4</td>\n",
              "      <td>1</td>\n",
              "    </tr>\n",
              "    <tr>\n",
              "      <th>3</th>\n",
              "      <td>7186_2</td>\n",
              "      <td>0</td>\n",
              "    </tr>\n",
              "    <tr>\n",
              "      <th>4</th>\n",
              "      <td>12128_7</td>\n",
              "      <td>1</td>\n",
              "    </tr>\n",
              "  </tbody>\n",
              "</table>\n",
              "</div>"
            ],
            "text/plain": [
              "         id  sentiment\n",
              "0  12311_10          1\n",
              "1    8348_2          0\n",
              "2    5828_4          1\n",
              "3    7186_2          0\n",
              "4   12128_7          1"
            ]
          },
          "metadata": {
            "tags": []
          },
          "execution_count": 99
        }
      ]
    },
    {
      "metadata": {
        "id": "Ee6wQtd9bxBN",
        "colab_type": "code",
        "colab": {}
      },
      "cell_type": "code",
      "source": [
        "del df\n",
        "del test_data_features\n",
        "del forest"
      ],
      "execution_count": 0,
      "outputs": []
    },
    {
      "metadata": {
        "id": "QKu3DRuZuOQn",
        "colab_type": "code",
        "colab": {}
      },
      "cell_type": "code",
      "source": [
        "drive_service = build('drive', 'v3')\n",
        "file_metadata = {\n",
        "  'name': 'Word2Vec_BagOfClusters.csv',\n",
        "  'mimeType': 'text/plain'\n",
        "}\n",
        "media = MediaFileUpload('Word2Vec_BagOfClusters.csv', \n",
        "                        mimetype='text/plain',\n",
        "                        resumable=True)\n",
        "created = drive_service.files().create(body=file_metadata,\n",
        "                                       media_body=media,\n",
        "                                       fields='id').execute()"
      ],
      "execution_count": 0,
      "outputs": []
    }
  ]
}